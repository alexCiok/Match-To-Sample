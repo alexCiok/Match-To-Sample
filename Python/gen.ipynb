{
 "cells": [
  {
   "cell_type": "markdown",
   "metadata": {},
   "source": [
    "# Begin by defining our functions"
   ]
  },
  {
   "cell_type": "code",
   "execution_count": 17,
   "metadata": {},
   "outputs": [],
   "source": [
    "import random\n",
    "\n",
    "#Returns space separated string containing 'n' distractor squares at random positions\n",
    "#e.g. string_n(2,5) = \"1 2 1 2 1\"\n",
    "def string_n(n,length):\n",
    "    if n>length or n<0:\n",
    "        return \"IndexError when calling string_n(n,length) : please ensure that 0 <= n <= length.\"\n",
    "    arr = [1]*(length)\n",
    "    str = \"\"\n",
    "    for i in range (n): #add 'n' distractor squares'\n",
    "        arr[i] = 2\n",
    "    random.shuffle(arr)     \n",
    "    for i in range(0,length):\n",
    "        str += \" {}\".format(arr[i])\n",
    "\n",
    "    return str\n",
    "\n",
    "#Converts 'study' string into a distractor with one distractor square swapped\n",
    "#e.g. createDistractor(\"1112\") = \"1211\"\n",
    "def createDistractor(s):\n",
    "    b = list(map(int, s.replace(\" \", \"\")))\n",
    "    rand_start = random.randint(0, len(b)-1)\n",
    "    rand_swap = random.randint(0, len(b)-1)\n",
    "    while (b[rand_start] == b[rand_swap]):\n",
    "        rand_swap = random.randint(0, len(b)-1)    \n",
    "    b[rand_start] = b[rand_swap]\n",
    "    b[rand_swap] = b[rand_swap] %2 +1\n",
    "\n",
    "    return \" \".join([str(x) for x in b])"
   ]
  },
  {
   "cell_type": "code",
   "execution_count": 21,
   "metadata": {},
   "outputs": [],
   "source": [
    "######### CREATE DIFFICULT TEST GRIDS (5x5) ##########\n",
    "diff_target = [] #all conditions of test grids\n",
    "diff_2 = [] #test grids with 2 distractor squares\n",
    "diff_3 = [] #3 distractor squares\n",
    "diff_4 = [] #4 distractor squares\n",
    "\n",
    "while(len(diff_2)<10):\n",
    "    target = string_n(2,25)\n",
    "    while(target in diff_2): #ensure unique values only\n",
    "        target = string_n(2,25)\n",
    "    diff_2.append(target)\n",
    "\n",
    "while(len(diff_3)<10):\n",
    "    target = string_n(3,25)\n",
    "    while(target in diff_3):\n",
    "        target = string_n(3,25)\n",
    "    diff_3.append(target)\n",
    "\n",
    "while(len(diff_4)<10):\n",
    "    target = string_n(4,25)\n",
    "    while(target in diff_4):\n",
    "        target = string_n(4,25)\n",
    "    diff_4.append(target)\n",
    "\n",
    "for (a,b,c) in zip(diff_2, diff_3, diff_4):\n",
    "    diff_target.extend((a,b,c))"
   ]
  },
  {
   "cell_type": "code",
   "execution_count": 33,
   "metadata": {},
   "outputs": [],
   "source": [
    "##############TESTING UNIQUENESS OF SET ENTRIES ##################\n",
    "a = 0\n",
    "while(a<len(diff_target)-1):\n",
    "    b= a+1\n",
    "    if(diff_target[a] == diff_target[b]):\n",
    "        print(\"found duplicate entry at index : {} and {}\".format(a, b))\n",
    "    a+=1\n",
    "###################################################################"
   ]
  },
  {
   "cell_type": "code",
   "execution_count": 34,
   "metadata": {},
   "outputs": [],
   "source": [
    "########## CREATE EASY TEST GRIDS (3x3) ############\n",
    "easy_target = []\n",
    "easy_2 = []\n",
    "easy_3 = []\n",
    "easy_4 = []\n",
    "\n",
    "while(len(easy_2)<10):\n",
    "    target = string_n(2,9)\n",
    "    while(target in easy_2):\n",
    "        target = string_n(2,9)\n",
    "    easy_2.append(target)\n",
    "\n",
    "while(len(easy_3)<10):\n",
    "    target = string_n(3,9)   \n",
    "    while(target in easy_3):\n",
    "        target = string_n(3,9) \n",
    "    easy_3.append(target)\n",
    "\n",
    "while(len(easy_4)<10):\n",
    "    target = string_n(4,9)   \n",
    "    while(target in easy_4):\n",
    "        target = string_n(4,9) \n",
    "    easy_4.append(target)\n",
    "\n",
    "for (a,b,c) in zip(easy_2,easy_3,easy_4):\n",
    "    easy_target.extend((a,b,c))"
   ]
  },
  {
   "cell_type": "code",
   "execution_count": 35,
   "metadata": {},
   "outputs": [],
   "source": [
    "##############TESTING UNIQUENESS OF SET ENTRIES ##################\n",
    "a = 0\n",
    "while(a<len(easy_target)-1):\n",
    "    b= a+1\n",
    "    if(easy_target[a] == easy_target[b]):\n",
    "        print(\"found duplicate entry at index : {} and {}\".format(a, b))\n",
    "    a+=1\n",
    "###################################################################"
   ]
  },
  {
   "cell_type": "code",
   "execution_count": 40,
   "metadata": {},
   "outputs": [],
   "source": [
    "########### CREATE DIFFICULT DISTRACTORs (5x5) ################\n",
    "diff_distr = []\n",
    "diff_distr_2 = []\n",
    "diff_distr_3 = []\n",
    "diff_distr_4 = []\n",
    "\n",
    "for targ in diff_2:\n",
    "    distr = createDistractor(targ)\n",
    "    while(distr in diff_target):\n",
    "        distr = createDistractor(targ)\n",
    "    diff_distr_2.append(distr)\n",
    "\n",
    "for targ in diff_3:\n",
    "    distr = createDistractor(targ)\n",
    "    while(distr in diff_target):\n",
    "        distr = createDistractor(targ)\n",
    "    diff_distr_3.append(distr)\n",
    "\n",
    "for targ in diff_4:\n",
    "    distr = createDistractor(targ)\n",
    "    while(distr in diff_target):\n",
    "        distr = createDistractor(targ)\n",
    "    diff_distr_4.append(distr)\n",
    "    \n",
    "diff_distr.clear() #ensures we don't add distractor multiple times\n",
    "for (x,y,z) in zip(diff_distr_2, diff_distr_3, diff_distr_4):\n",
    "    diff_distr.extend((x,y,z))"
   ]
  },
  {
   "cell_type": "code",
   "execution_count": 41,
   "metadata": {},
   "outputs": [],
   "source": [
    "##############TESTING UNIQUENESS OF SET ENTRIES ##################\n",
    "a = 0\n",
    "while(a<len(diff_distr)-1):\n",
    "    b= a+1\n",
    "    if(diff_distr[a] == diff_distr[b]):\n",
    "        print(\"found duplicate entry at index : {} and {}\".format(a, b))\n",
    "    a+=1\n",
    "###################################################################"
   ]
  },
  {
   "cell_type": "code",
   "execution_count": 44,
   "metadata": {},
   "outputs": [],
   "source": [
    "################ CREATE EASY DISTRACTOR (3x3) ###############\n",
    "easy_distr = []\n",
    "easy_distr_2 = []\n",
    "easy_distr_3 = []\n",
    "easy_distr_4 = []\n",
    "\n",
    "for targ in easy_2:\n",
    "    distr = createDistractor(targ)\n",
    "    while(distr in easy_target):\n",
    "        distr = createDistractor(targ)\n",
    "    easy_distr_2.append(distr)\n",
    "\n",
    "for targ in easy_3:\n",
    "    distr = createDistractor(targ)\n",
    "    while(distr in easy_target):\n",
    "        distr = createDistractor(targ)\n",
    "    easy_distr_3.append(distr)\n",
    "\n",
    "for targ in easy_4:\n",
    "    distr = createDistractor(targ)\n",
    "    while(distr in easy_target):\n",
    "        distr = createDistractor(targ)\n",
    "    easy_distr_4.append(distr)\n",
    "\n",
    "easy_distr.clear() #ensures we don't add distractor multiple times\n",
    "for (x,y,z) in zip(easy_distr_2, easy_distr_3, easy_distr_4):\n",
    "    easy_distr.extend((x,y,z))"
   ]
  },
  {
   "cell_type": "code",
   "execution_count": null,
   "metadata": {},
   "outputs": [],
   "source": [
    "############## Write to target files ###########\n",
    "with open('study_5.txt', 'w') as f:\n",
    "    for set in diff_target:\n",
    "        f.write(set+\"\\n\")\n",
    "with open('study_3.txt', 'w') as b:\n",
    "    for set in easy_target:\n",
    "        b.write(set+'\\n')\n",
    "\n",
    "#Write distractor file\n",
    "with open('distr_5.txt','w') as g:\n",
    "    for set in diff_distr:\n",
    "        g.write(set+\"\\n\")\n",
    "with open('distr_3.txt','w') as h:\n",
    "    for set in easy_distr:\n",
    "        h.write(set+\"\\n\")"
   ]
  }
 ],
 "metadata": {
  "kernelspec": {
   "display_name": "Python 3.10.2 64-bit",
   "language": "python",
   "name": "python3"
  },
  "language_info": {
   "codemirror_mode": {
    "name": "ipython",
    "version": 3
   },
   "file_extension": ".py",
   "mimetype": "text/x-python",
   "name": "python",
   "nbconvert_exporter": "python",
   "pygments_lexer": "ipython3",
   "version": "3.10.2"
  },
  "orig_nbformat": 4,
  "vscode": {
   "interpreter": {
    "hash": "29543d7011657dde253f3dd2a6f177820f041e30082ffe135fa23add61a241cb"
   }
  }
 },
 "nbformat": 4,
 "nbformat_minor": 2
}

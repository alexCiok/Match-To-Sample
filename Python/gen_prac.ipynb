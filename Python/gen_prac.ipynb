{
 "cells": [
  {
   "cell_type": "code",
   "execution_count": 15,
   "metadata": {},
   "outputs": [],
   "source": [
    "all_5 = []\n",
    "all_3 = []\n",
    "############## Write to target files ###########\n",
    "with open('study_5.txt', 'r') as f:\n",
    "    for set in f:\n",
    "        all_5.append(set)\n",
    "with open('study_3.txt', 'r') as b:\n",
    "    for set in b:\n",
    "        all_3.append(set+'\\n')\n",
    "\n",
    "#Write distractor file\n",
    "with open('distr_5.txt','r') as g:\n",
    "    for set in g:\n",
    "        all_5.append(set)\n",
    "with open('distr_3.txt','r') as h:\n",
    "    for set in h:\n",
    "        all_3.append(set)"
   ]
  },
  {
   "cell_type": "code",
   "execution_count": 16,
   "metadata": {},
   "outputs": [
    {
     "name": "stdout",
     "output_type": "stream",
     "text": [
      "60\n",
      "60\n"
     ]
    }
   ],
   "source": [
    "#check each file's size\n",
    "print(len(all_3))\n",
    "print(len(all_5))\n"
   ]
  },
  {
   "cell_type": "code",
   "execution_count": 17,
   "metadata": {},
   "outputs": [],
   "source": [
    "import random\n",
    "\n",
    "#Returns space separated string containing 'n' distractor squares at random positions\n",
    "#e.g. string_n(2,5) = \"1 2 1 2 1\"\n",
    "def string_n(n,length):\n",
    "    if n>length or n<0:\n",
    "        return \"IndexError when calling string_n(n,length) : please ensure that 0 <= n <= length.\"\n",
    "    arr = [1]*(length)\n",
    "    str = \"\"\n",
    "    for i in range (n): #add 'n' distractor squares'\n",
    "        arr[i] = 2\n",
    "    random.shuffle(arr)     \n",
    "    for i in range(0,length):\n",
    "        str += \" {}\".format(arr[i])\n",
    "\n",
    "    return str\n",
    "\n",
    "#Converts 'study' string into a distractor with one distractor square swapped\n",
    "#e.g. createDistractor(\"1112\") = \"1211\"\n",
    "def createDistractor(s):\n",
    "    b = list(map(int, s.replace(\" \", \"\")))\n",
    "    rand_start = random.randint(0, len(b)-1)\n",
    "    rand_swap = random.randint(0, len(b)-1)\n",
    "    while (b[rand_start] == b[rand_swap]):\n",
    "        rand_swap = random.randint(0, len(b)-1)    \n",
    "    b[rand_start] = b[rand_swap]\n",
    "    b[rand_swap] = b[rand_swap] %2 +1\n",
    "\n",
    "    return \" \".join([str(x) for x in b])"
   ]
  },
  {
   "cell_type": "code",
   "execution_count": 18,
   "metadata": {},
   "outputs": [],
   "source": [
    "prac_5 = []\n",
    "prac_5_distr = []\n",
    "\n",
    "while(len(prac_5)<2):\n",
    "    target = string_n(2,25)\n",
    "    while(target in prac_5): #ensure unique values only\n",
    "        target = string_n(2,25)\n",
    "    prac_5.append(target)\n",
    "\n",
    "while(len(prac_5)<4):\n",
    "    target = string_n(3,25)\n",
    "    while(target in prac_5): #ensure unique values only\n",
    "        target = string_n(3,25)\n",
    "    prac_5.append(target)\n",
    "\n",
    "while(len(prac_5)<6):\n",
    "    target = string_n(4,25)\n",
    "    while(target in prac_5): #ensure unique values only\n",
    "        target = string_n(4,25)\n",
    "    prac_5.append(target)"
   ]
  },
  {
   "cell_type": "code",
   "execution_count": 22,
   "metadata": {},
   "outputs": [],
   "source": [
    "#################### TEST FOR DUPLICATES #####################\n",
    "i = 0\n",
    "while i<len(prac_5)-1:\n",
    "    j = i+1\n",
    "    while j<len(prac_5):\n",
    "        if(prac_5[i]==prac_5[j]):\n",
    "            print(\"You've found duplicates at positions {},{}\").format(i,j)\n",
    "        j+=1\n",
    "    i+=1\n",
    "        "
   ]
  },
  {
   "cell_type": "code",
   "execution_count": null,
   "metadata": {},
   "outputs": [],
   "source": [
    "prac_3 = []\n",
    "prac_3_distr = []\n",
    "\n",
    "while(len(prac_3)<2):\n",
    "    target = string_n(2,25)\n",
    "    while(target in prac_3): #ensure unique values only\n",
    "        target = string_n(2,25)\n",
    "    prac_3.append(target)\n",
    "\n",
    "while(len(prac_3)<4):\n",
    "    target = string_n(3,25)\n",
    "    while(target in prac_3): #ensure unique values only\n",
    "        target = string_n(3,25)\n",
    "    prac_3.append(target)\n",
    "\n",
    "while(len(prac_3)<6):\n",
    "    target = string_n(4,25)\n",
    "    while(target in prac_3): #ensure unique values only\n",
    "        target = string_n(4,25)\n",
    "    prac_3.append(target)"
   ]
  },
  {
   "cell_type": "code",
   "execution_count": null,
   "metadata": {},
   "outputs": [],
   "source": [
    "prac_3 = []\n",
    "prac_3_distr = []\n"
   ]
  }
 ],
 "metadata": {
  "kernelspec": {
   "display_name": "Python 3.10.2 64-bit",
   "language": "python",
   "name": "python3"
  },
  "language_info": {
   "codemirror_mode": {
    "name": "ipython",
    "version": 3
   },
   "file_extension": ".py",
   "mimetype": "text/x-python",
   "name": "python",
   "nbconvert_exporter": "python",
   "pygments_lexer": "ipython3",
   "version": "3.10.2"
  },
  "orig_nbformat": 4,
  "vscode": {
   "interpreter": {
    "hash": "29543d7011657dde253f3dd2a6f177820f041e30082ffe135fa23add61a241cb"
   }
  }
 },
 "nbformat": 4,
 "nbformat_minor": 2
}

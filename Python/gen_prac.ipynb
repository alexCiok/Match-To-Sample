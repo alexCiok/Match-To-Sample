{
 "cells": [
  {
   "cell_type": "code",
   "execution_count": 85,
   "metadata": {},
   "outputs": [],
   "source": [
    "all_5 = []\n",
    "all_3 = []\n",
    "all_5.clear()\n",
    "all_3.clear()\n",
    "############## Write to target files ###########\n",
    "with open('study_5.txt', 'r') as f:\n",
    "    for set in f:\n",
    "        all_5.append(set)\n",
    "with open('study_3.txt', 'r') as b:\n",
    "    for set in b:\n",
    "        all_3.append(set)\n",
    "\n",
    "#Write distractor file\n",
    "with open('distr_5.txt','r') as g:\n",
    "    for set in g:\n",
    "        all_5.append(set)\n",
    "with open('distr_3.txt','r') as h:\n",
    "    for set in h:\n",
    "        all_3.append(set)"
   ]
  },
  {
   "cell_type": "code",
   "execution_count": 86,
   "metadata": {},
   "outputs": [
    {
     "name": "stdout",
     "output_type": "stream",
     "text": [
      "60\n",
      "60\n"
     ]
    }
   ],
   "source": [
    "#check each file's size\n",
    "print(len(all_3))\n",
    "print(len(all_5))\n"
   ]
  },
  {
   "cell_type": "code",
   "execution_count": 87,
   "metadata": {},
   "outputs": [],
   "source": [
    "import random\n",
    "\n",
    "#Returns space separated string containing 'n' distractor squares at random positions\n",
    "#e.g. string_n(2,5) = \"1 2 1 2 1\"\n",
    "def string_n(n,length):\n",
    "    if n>length or n<0:\n",
    "        return \"IndexError when calling string_n(n,length) : please ensure that 0 <= n <= length.\"\n",
    "    arr = [1]*(length)\n",
    "    str = \"\"\n",
    "    for i in range (n): #add 'n' distractor squares'\n",
    "        arr[i] = 2\n",
    "    random.shuffle(arr)     \n",
    "    for i in range(0,length):\n",
    "        str += \" {}\".format(arr[i])\n",
    "\n",
    "    return str\n",
    "\n",
    "#Converts 'study' string into a distractor with one distractor square swapped\n",
    "#e.g. createDistractor(\"1112\") = \"1211\"\n",
    "def createDistractor(s):\n",
    "    b = list(map(int, s.replace(\" \", \"\")))\n",
    "    rand_start = random.randint(0, len(b)-1)\n",
    "    rand_swap = random.randint(0, len(b)-1)\n",
    "    while (b[rand_start] == b[rand_swap]):\n",
    "        rand_swap = random.randint(0, len(b)-1)    \n",
    "    b[rand_start] = b[rand_swap]\n",
    "    b[rand_swap] = b[rand_swap] %2 +1\n",
    "\n",
    "    return \" \".join([str(x) for x in b])"
   ]
  },
  {
   "cell_type": "code",
   "execution_count": 88,
   "metadata": {},
   "outputs": [],
   "source": [
    "prac_5 = []\n",
    "prac_5.clear() #clears array if needed\n",
    "while(len(prac_5)<2):\n",
    "    target = string_n(2,25)\n",
    "    while(target in prac_5): #ensure unique values only\n",
    "        target = string_n(2,25)\n",
    "    prac_5.append(target)\n",
    "\n",
    "while(len(prac_5)<4):\n",
    "    target = string_n(3,25)\n",
    "    while(target in prac_5): #ensure unique values only\n",
    "        target = string_n(3,25)\n",
    "    prac_5.append(target)\n",
    "\n",
    "while(len(prac_5)<6):\n",
    "    target = string_n(4,25)\n",
    "    while(target in prac_5): #ensure unique values only\n",
    "        target = string_n(4,25)\n",
    "    prac_5.append(target)"
   ]
  },
  {
   "cell_type": "code",
   "execution_count": 89,
   "metadata": {},
   "outputs": [],
   "source": [
    "prac_3 = []\n",
    "prac_3.clear() #clears array if needed\n",
    "while(len(prac_3)<2):\n",
    "    target = string_n(2,9)\n",
    "    while(target in prac_3): #ensure unique values only\n",
    "        target = string_n(2,9)\n",
    "    prac_3.append(target)\n",
    "\n",
    "while(len(prac_3)<4):\n",
    "    target = string_n(3,9)\n",
    "    while(target in prac_3): #ensure unique values only\n",
    "        target = string_n(3,9)\n",
    "    prac_3.append(target)\n",
    "\n",
    "while(len(prac_3)<6):\n",
    "    target = string_n(4,9)\n",
    "    while(target in prac_3): #ensure unique values only\n",
    "        target = string_n(4,9)\n",
    "    prac_3.append(target)"
   ]
  },
  {
   "cell_type": "code",
   "execution_count": 90,
   "metadata": {},
   "outputs": [],
   "source": [
    "########### CREATE PRACTICE DISTRACTORs (3x3 & 5x5) ################\n",
    "prac_3_distr = []\n",
    "prac_5_distr = []\n",
    "\n",
    "prac_3_distr.clear()\n",
    "prac_5_distr.clear()\n",
    "for targ in prac_3:\n",
    "    distr = createDistractor(targ)\n",
    "    while(distr in prac_3 or distr in prac_3_distr or distr in all_3):\n",
    "        distr = createDistractor(targ)\n",
    "    prac_3_distr.append(distr)\n",
    "\n",
    "for targ in prac_5:\n",
    "    distr = createDistractor(targ)\n",
    "    while(distr in prac_5 or distr in prac_5_distr or distr in all_5):\n",
    "        distr = createDistractor(targ)\n",
    "    prac_5_distr.append(distr)"
   ]
  },
  {
   "cell_type": "code",
   "execution_count": 91,
   "metadata": {},
   "outputs": [],
   "source": [
    "#create complete dataset, don't call this more than once or else all_3 isn't cleared\n",
    "for k in prac_3:\n",
    "    all_3.append(k)\n",
    "for m in prac_5:\n",
    "    all_5.append(m)"
   ]
  },
  {
   "cell_type": "code",
   "execution_count": 92,
   "metadata": {},
   "outputs": [],
   "source": [
    "############## Write to target files ###########\n",
    "with open('prac_5.txt', 'w') as f:\n",
    "    for set in prac_5:\n",
    "        f.write(set+\"\\n\")\n",
    "with open('prac_3.txt', 'w') as b:\n",
    "    for set in prac_3:\n",
    "        b.write(set+'\\n')\n",
    "\n",
    "#Write distractor file\n",
    "with open('prac_5_distr.txt','w') as g:\n",
    "    for set in prac_5_distr:\n",
    "        g.write(set+\"\\n\")\n",
    "with open('prac_3_distr.txt','w') as h:\n",
    "    for set in prac_3_distr:\n",
    "        h.write(set+\"\\n\")"
   ]
  },
  {
   "cell_type": "code",
   "execution_count": 93,
   "metadata": {},
   "outputs": [],
   "source": [
    "\n",
    "#################### TEST FOR DUPLICATES #####################\n",
    "i = 0\n",
    "while i<len(prac_3_distr)-1:\n",
    "    j = 0\n",
    "    for j in all_3:\n",
    "        if(prac_5_distr[i]==j):\n",
    "            print(\"You've found duplicates at positions {},{}\").format(i,j)        \n",
    "    i+=1\n",
    "\n",
    "k = 0\n",
    "while k<len(prac_5_distr):\n",
    "    for m in all_5:\n",
    "        if(m == prac_5_distr[k]):\n",
    "            print(\"you've found a duplicate at {},{}\".format(m,prac_5_distr[k]))\n",
    "    k+=1"
   ]
  },
  {
   "cell_type": "code",
   "execution_count": 95,
   "metadata": {},
   "outputs": [
    {
     "name": "stdout",
     "output_type": "stream",
     "text": [
      "66\n",
      "66\n",
      "6\n"
     ]
    }
   ],
   "source": [
    "print(len(all_3))\n",
    "print(len(all_5))\n",
    "print(len(prac_3))"
   ]
  },
  {
   "cell_type": "code",
   "execution_count": null,
   "metadata": {},
   "outputs": [],
   "source": []
  }
 ],
 "metadata": {
  "kernelspec": {
   "display_name": "Python 3.10.2 64-bit",
   "language": "python",
   "name": "python3"
  },
  "language_info": {
   "codemirror_mode": {
    "name": "ipython",
    "version": 3
   },
   "file_extension": ".py",
   "mimetype": "text/x-python",
   "name": "python",
   "nbconvert_exporter": "python",
   "pygments_lexer": "ipython3",
   "version": "3.10.2"
  },
  "orig_nbformat": 4,
  "vscode": {
   "interpreter": {
    "hash": "29543d7011657dde253f3dd2a6f177820f041e30082ffe135fa23add61a241cb"
   }
  }
 },
 "nbformat": 4,
 "nbformat_minor": 2
}
